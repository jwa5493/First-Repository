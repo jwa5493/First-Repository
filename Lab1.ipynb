{
  "nbformat": 4,
  "nbformat_minor": 0,
  "metadata": {
    "colab": {
      "name": "Lab1.ipynb",
      "provenance": []
    },
    "kernelspec": {
      "name": "python3",
      "display_name": "Python 3"
    }
  },
  "cells": [
    {
      "cell_type": "markdown",
      "metadata": {
        "id": "fVZ8cz_1fxup",
        "colab_type": "text"
      },
      "source": [
        "#Do you like using Jupyter Notebooks?"
      ]
    },
    {
      "cell_type": "markdown",
      "metadata": {
        "id": "01tPUuXBf55q",
        "colab_type": "text"
      },
      "source": [
        "Yes I do like using Jupyter notebooks. It has a very easy to understand layout and the options for creating headers and sub-headers and so on is very easy and simple to do."
      ]
    },
    {
      "cell_type": "markdown",
      "metadata": {
        "id": "kcZSmd_iho2k",
        "colab_type": "text"
      },
      "source": [
        "#What do you want to learn more about in Jupyter Notebooks?"
      ]
    },
    {
      "cell_type": "markdown",
      "metadata": {
        "id": "YMR4Pyijhx7U",
        "colab_type": "text"
      },
      "source": [
        "I want to learn about how to design a website-looking database and make everyhting look very neat and nice. I am also interested in finally learning how to do some sort of Python coding and trying to understand how it works since I have only worked with Java."
      ]
    },
    {
      "cell_type": "markdown",
      "metadata": {
        "id": "bMCN9BD4iS9n",
        "colab_type": "text"
      },
      "source": [
        "![Gengar Pokemon](https://raw.githubusercontent.com/jwa5493/First-Repository/master/images/gengar.jpg)"
      ]
    }
  ]
}