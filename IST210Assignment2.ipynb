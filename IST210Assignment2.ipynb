{
  "nbformat": 4,
  "nbformat_minor": 0,
  "metadata": {
    "colab": {
      "name": "IST210Assignment2.ipynb",
      "provenance": []
    },
    "kernelspec": {
      "name": "python3",
      "display_name": "Python 3"
    }
  },
  "cells": [
    {
      "cell_type": "markdown",
      "metadata": {
        "id": "dwSc0r6yyEsY"
      },
      "source": [
        "![Assignment2](https://raw.githubusercontent.com/jwa5493/First-Repository/master/images/IST210Assignment2.png)"
      ]
    },
    {
      "cell_type": "markdown",
      "metadata": {
        "id": "blqQB4la4Aep"
      },
      "source": [
        "This diagram shows the relationships in the database of each of the entities in the Pet Shop. I have designed the database the way I did because I wanted to show how each of there entities would easily be able to be represented and interpreted. The database clearly shows how the individual entities can be compared due to the usage of verbs, for example, the transaction uses the CustomerID to complete the transaction to make sure the customer who has an individual ID number are being used, and each of the estimated 10000 customers there who has one. Also, similar verbs in the relationships can be used the same way, like for example the CustomerID and the LoyaltyID comparison, except for the CustomerID relationship, the LoyaltyID relationship uses the customer for identification and the Customer uses the Loyalty card for discounts and promotions."
      ]
    }
  ]
}